{
  "nbformat": 4,
  "nbformat_minor": 0,
  "metadata": {
    "colab": {
      "provenance": [],
      "authorship_tag": "ABX9TyPcA/QB2qAG3gW4DbRtc+It",
      "include_colab_link": true
    },
    "kernelspec": {
      "name": "python3",
      "display_name": "Python 3"
    },
    "language_info": {
      "name": "python"
    }
  },
  "cells": [
    {
      "cell_type": "markdown",
      "metadata": {
        "id": "view-in-github",
        "colab_type": "text"
      },
      "source": [
        "<a href=\"https://colab.research.google.com/github/NITHISHKUMAR23/Art-of-Bloom/blob/main/INDIAN_election_.ipynb\" target=\"_parent\"><img src=\"https://colab.research.google.com/assets/colab-badge.svg\" alt=\"Open In Colab\"/></a>"
      ]
    },
    {
      "cell_type": "code",
      "execution_count": null,
      "metadata": {
        "colab": {
          "base_uri": "https://localhost:8080/"
        },
        "id": "2D8wSgpWmH1n",
        "outputId": "27b1a5a8-d650-47fb-e8e0-6594183bb2d2"
      },
      "outputs": [
        {
          "output_type": "stream",
          "name": "stdout",
          "text": [
            "Drive already mounted at /content/drive; to attempt to forcibly remount, call drive.mount(\"/content/drive\", force_remount=True).\n"
          ]
        }
      ],
      "source": [
        "from google.colab import drive\n",
        "drive.mount('/content/drive')"
      ]
    },
    {
      "cell_type": "code",
      "source": [
        "!pip install textblob"
      ],
      "metadata": {
        "colab": {
          "base_uri": "https://localhost:8080/"
        },
        "id": "yBKgwE25uiYU",
        "outputId": "0ee48c39-d24f-4f07-e051-ce52eb60e1e7"
      },
      "execution_count": null,
      "outputs": [
        {
          "output_type": "stream",
          "name": "stdout",
          "text": [
            "Requirement already satisfied: textblob in /usr/local/lib/python3.10/dist-packages (0.17.1)\n",
            "Requirement already satisfied: nltk>=3.1 in /usr/local/lib/python3.10/dist-packages (from textblob) (3.8.1)\n",
            "Requirement already satisfied: click in /usr/local/lib/python3.10/dist-packages (from nltk>=3.1->textblob) (8.1.7)\n",
            "Requirement already satisfied: joblib in /usr/local/lib/python3.10/dist-packages (from nltk>=3.1->textblob) (1.3.2)\n",
            "Requirement already satisfied: regex>=2021.8.3 in /usr/local/lib/python3.10/dist-packages (from nltk>=3.1->textblob) (2023.12.25)\n",
            "Requirement already satisfied: tqdm in /usr/local/lib/python3.10/dist-packages (from nltk>=3.1->textblob) (4.66.2)\n"
          ]
        }
      ]
    },
    {
      "cell_type": "code",
      "source": [
        "import pandas as pd\n",
        "import numpy as np\n",
        "import seaborn as sns\n",
        "import matplotlib.pyplot as plt\n",
        "from textblob import TextBlob\n",
        "from wordcloud import WordCloud\n",
        "import plotly.graph_objects as go\n",
        "import plotly.express as px"
      ],
      "metadata": {
        "id": "zKa9W7ipmPIL"
      },
      "execution_count": null,
      "outputs": []
    },
    {
      "cell_type": "code",
      "source": [
        "BJP_NDA  = pd.read_csv('/content/drive/MyDrive/Final Year Project B2/Modi tweets_review.csv')\n",
        "print(BJP_NDA)\n",
        "INC_UPA = pd.read_csv('/content/drive/MyDrive/Final Year Project B2/Rahul tweets_review.csv')\n",
        "print(INC_UPA)"
      ],
      "metadata": {
        "colab": {
          "base_uri": "https://localhost:8080/"
        },
        "id": "HlmBasCioXK3",
        "outputId": "cff8d4a9-d16e-4951-d23b-7e83b3e8b2b9"
      },
      "execution_count": null,
      "outputs": [
        {
          "output_type": "stream",
          "name": "stdout",
          "text": [
            "      Unnamed: 0                       Date             User  \\\n",
            "0              0  2019-05-18 23:50:47+00:00  advosushildixit   \n",
            "1              1  2019-05-18 23:00:03+00:00           jiaeur   \n",
            "2              2  2019-05-18 22:53:54+00:00    PVenkatGandhi   \n",
            "3              3  2019-05-18 22:20:48+00:00      TheNirbhay1   \n",
            "4              4  2019-05-18 21:22:29+00:00      ShakeChilli   \n",
            "...          ...                        ...              ...   \n",
            "25683      25678  2019-04-09 12:06:31+00:00       shv_indian   \n",
            "25684      25679  2019-03-29 15:42:44+00:00       SONUPINKOO   \n",
            "25685      25680  2019-03-29 13:28:51+00:00       SONUPINKOO   \n",
            "25686      25681  2019-03-23 05:06:36+00:00       SONUPINKOO   \n",
            "25687      25682  2019-03-19 15:37:34+00:00    parthajit0101   \n",
            "\n",
            "                                                   Tweet Emotion  \n",
            "0      @anjanaomkashyap I am seeing you as future #bj...     neg  \n",
            "1      #LokSabhaElections2019 \\n23rd May 2019 will re...     neg  \n",
            "2      #LokSabhaElections2019 \\n23rd May 2019 will re...     neg  \n",
            "3      PM Modi creates a new record of being the only...     pos  \n",
            "4      @abhijitmajumder Appointment of Successor! \\n\\...     pos  \n",
            "...                                                  ...     ...  \n",
            "25683  #1DDrive #ModiSpeaksToNews18 #LokSabhaElection...     pos  \n",
            "25684  I am seriously worried about future of Indian ...     pos  \n",
            "25685  If @narendramodi is so Bad then Why does @INCI...     neg  \n",
            "25686  On this 23rd March (Pakistan Day), I Urge all ...     neg  \n",
            "25687  @timesofindia #ArvindKejriwal, #AAP sirji pls ...     neg  \n",
            "\n",
            "[25688 rows x 5 columns]\n",
            "       Unnamed: 0                       Date             User  \\\n",
            "0               0  2019-05-18 19:49:52+00:00     Sunnysweet16   \n",
            "1               1  2019-05-18 18:56:52+00:00    drnitinchaube   \n",
            "2               2  2019-05-18 18:54:01+00:00        mrvivek07   \n",
            "3               3  2019-05-18 18:52:03+00:00    JosephPravinP   \n",
            "4               4  2019-05-18 18:31:10+00:00  VandanaMegastar   \n",
            "...           ...                        ...              ...   \n",
            "14256       14256  2019-03-23 04:53:54+00:00         SunjayJK   \n",
            "14257       14257  2019-03-17 08:53:28+00:00         SunjayJK   \n",
            "14258       14258  2019-03-06 10:20:09+00:00       RAMANKAIRA   \n",
            "14259       14259  2019-03-06 10:18:02+00:00       RAMANKAIRA   \n",
            "14260       14260  2019-03-06 10:11:43+00:00       RAMANKAIRA   \n",
            "\n",
            "                                                   Tweet Emotion  \n",
            "0      Wonder why no academic or journalist asks INC ...     pos  \n",
            "1      Congrats for the change #australiavotes2019 an...     pos  \n",
            "2      Peopel Say “Govt Ne 70 Years Kya kiya”.\\nUnse ...     neg  \n",
            "3      @ajaymaken @RahulGandhi And as a final touch, ...     pos  \n",
            "4      #LokSabhaElections2019 Anyone not having mass ...     pos  \n",
            "...                                                  ...     ...  \n",
            "14256  @quizzicalguy In this #LokSabhaElections2019, ...     pos  \n",
            "14257  @AnumaVidisha @RahulGandhi @ArvindKejriwal whe...     neg  \n",
            "14258  @sherryontopp Early morning #political move af...     neg  \n",
            "14259  @mayankgandhi04 @mallesh_2004 Early morning #p...     neg  \n",
            "14260  @DrKumarVishwas Early morning #political move ...     neg  \n",
            "\n",
            "[14261 rows x 5 columns]\n"
          ]
        }
      ]
    },
    {
      "cell_type": "code",
      "source": [
        "BJP_NDA = pd.read_csv('/content/drive/MyDrive/Final Year Project B2/Modi tweets_review.csv')\n",
        "INC_UPA = pd.read_csv('/content/drive/MyDrive/Final Year Project B2/Rahul tweets_review.csv')"
      ],
      "metadata": {
        "id": "lxANW9u9rssK"
      },
      "execution_count": null,
      "outputs": []
    },
    {
      "cell_type": "code",
      "source": [
        "print(BJP_NDA.head())\n",
        "print(INC_UPA.head())"
      ],
      "metadata": {
        "colab": {
          "base_uri": "https://localhost:8080/"
        },
        "id": "Ke8QIA_8ryn_",
        "outputId": "e1014c6b-6601-448d-afd5-1f1bd7e76aae"
      },
      "execution_count": null,
      "outputs": [
        {
          "output_type": "stream",
          "name": "stdout",
          "text": [
            "  Unnamed: 0                       Date             User  \\\n",
            "0          0  2019-05-18 23:50:47+00:00  advosushildixit   \n",
            "1          1  2019-05-18 23:00:03+00:00           jiaeur   \n",
            "2          2  2019-05-18 22:53:54+00:00    PVenkatGandhi   \n",
            "3          3  2019-05-18 22:20:48+00:00      TheNirbhay1   \n",
            "4          4  2019-05-18 21:22:29+00:00      ShakeChilli   \n",
            "\n",
            "                                               Tweet Emotion  \n",
            "0  @anjanaomkashyap I am seeing you as future #bj...     neg  \n",
            "1  #LokSabhaElections2019 \\n23rd May 2019 will re...     neg  \n",
            "2  #LokSabhaElections2019 \\n23rd May 2019 will re...     neg  \n",
            "3  PM Modi creates a new record of being the only...     pos  \n",
            "4  @abhijitmajumder Appointment of Successor! \\n\\...     pos  \n",
            "   Unnamed: 0                       Date             User  \\\n",
            "0           0  2019-05-18 19:49:52+00:00     Sunnysweet16   \n",
            "1           1  2019-05-18 18:56:52+00:00    drnitinchaube   \n",
            "2           2  2019-05-18 18:54:01+00:00        mrvivek07   \n",
            "3           3  2019-05-18 18:52:03+00:00    JosephPravinP   \n",
            "4           4  2019-05-18 18:31:10+00:00  VandanaMegastar   \n",
            "\n",
            "                                               Tweet Emotion  \n",
            "0  Wonder why no academic or journalist asks INC ...     pos  \n",
            "1  Congrats for the change #australiavotes2019 an...     pos  \n",
            "2  Peopel Say “Govt Ne 70 Years Kya kiya”.\\nUnse ...     neg  \n",
            "3  @ajaymaken @RahulGandhi And as a final touch, ...     pos  \n",
            "4  #LokSabhaElections2019 Anyone not having mass ...     pos  \n"
          ]
        }
      ]
    },
    {
      "cell_type": "code",
      "source": [
        "textblob1 = TextBlob(BJP_NDA[\"Tweet\"][100])\n",
        "print(\"MODI :\",textblob1.sentiment)"
      ],
      "metadata": {
        "colab": {
          "base_uri": "https://localhost:8080/"
        },
        "id": "hrFfq7gqr3IH",
        "outputId": "24ffb436-ccd9-434f-cad7-6116bb5ab727"
      },
      "execution_count": null,
      "outputs": [
        {
          "output_type": "stream",
          "name": "stdout",
          "text": [
            "MODI : Sentiment(polarity=0.41874999999999996, subjectivity=0.725)\n"
          ]
        }
      ]
    },
    {
      "cell_type": "code",
      "source": [
        "len(BJP_NDA)\n",
        "len(INC_UPA)"
      ],
      "metadata": {
        "colab": {
          "base_uri": "https://localhost:8080/"
        },
        "id": "VuvYOv5S1ArI",
        "outputId": "df8dfc22-d54c-42b8-ebf1-82bbfa9f0836"
      },
      "execution_count": null,
      "outputs": [
        {
          "output_type": "execute_result",
          "data": {
            "text/plain": [
              "14261"
            ]
          },
          "metadata": {},
          "execution_count": 89
        }
      ]
    },
    {
      "cell_type": "code",
      "source": [
        "textblob2 = TextBlob(INC_UPA[\"Tweet\"][10000])\n",
        "print(\"Rahul :\",textblob2.sentiment)"
      ],
      "metadata": {
        "colab": {
          "base_uri": "https://localhost:8080/"
        },
        "id": "IAd3U1g5vQSV",
        "outputId": "d45cc9c0-bafc-46c6-9ddc-120e659da831"
      },
      "execution_count": null,
      "outputs": [
        {
          "output_type": "stream",
          "name": "stdout",
          "text": [
            "Rahul : Sentiment(polarity=0.5, subjectivity=0.625)\n"
          ]
        }
      ]
    },
    {
      "cell_type": "code",
      "source": [
        "BJP_NDA[\"Tweet\"][2787]"
      ],
      "metadata": {
        "colab": {
          "base_uri": "https://localhost:8080/",
          "height": 36
        },
        "id": "wuAH0-dPv83E",
        "outputId": "053c496e-e524-486b-a18f-54fd2a953b7c"
      },
      "execution_count": null,
      "outputs": [
        {
          "output_type": "execute_result",
          "data": {
            "text/plain": [
              "'Entire nation voting for the belief they have in two words \"Narendra Modi\"\\n@narendramodi\\n\\n@poonam_mahajan\\n \\n#MumbaikarVoteKar \\n#LokSabhaElections2019'"
            ],
            "application/vnd.google.colaboratory.intrinsic+json": {
              "type": "string"
            }
          },
          "metadata": {},
          "execution_count": 92
        }
      ]
    },
    {
      "cell_type": "code",
      "source": [
        "INC_UPA[\"Tweet\"][2539]"
      ],
      "metadata": {
        "colab": {
          "base_uri": "https://localhost:8080/",
          "height": 53
        },
        "id": "DqqOruj0whll",
        "outputId": "eb9cc2e9-a217-4a40-fc99-acd481084e87"
      },
      "execution_count": null,
      "outputs": [
        {
          "output_type": "execute_result",
          "data": {
            "text/plain": [
              "\"#SPG Director rules out security breach during Rahul Gandhi's #Amethi visit. The green light shown in the clipping was found to be that of a mobile phone used by the AICC photographer, who was shooting the press interaction of #RahulGandhi near collectorate at Amethi, says #MHA.\""
            ],
            "application/vnd.google.colaboratory.intrinsic+json": {
              "type": "string"
            }
          },
          "metadata": {},
          "execution_count": 93
        }
      ]
    },
    {
      "cell_type": "code",
      "source": [
        "def find_pol(review):\n",
        "    if not isinstance(review, str):\n",
        "        review = str(review)\n",
        "    return TextBlob(review).sentiment.polarity\n"
      ],
      "metadata": {
        "id": "ZhalmuDXw6a0"
      },
      "execution_count": null,
      "outputs": []
    },
    {
      "cell_type": "code",
      "source": [
        "BJP_NDA[\"Sentiment Polarity\"] = BJP_NDA[\"Tweet\"].apply(find_pol)\n",
        "print(BJP_NDA.tail())"
      ],
      "metadata": {
        "colab": {
          "base_uri": "https://localhost:8080/"
        },
        "id": "f1AjKLcpx_hy",
        "outputId": "a4e100f1-07c1-4eee-88d7-3b0c1934221f"
      },
      "execution_count": null,
      "outputs": [
        {
          "output_type": "stream",
          "name": "stdout",
          "text": [
            "      Unnamed: 0                       Date           User  \\\n",
            "25683      25678  2019-04-09 12:06:31+00:00     shv_indian   \n",
            "25684      25679  2019-03-29 15:42:44+00:00     SONUPINKOO   \n",
            "25685      25680  2019-03-29 13:28:51+00:00     SONUPINKOO   \n",
            "25686      25681  2019-03-23 05:06:36+00:00     SONUPINKOO   \n",
            "25687      25682  2019-03-19 15:37:34+00:00  parthajit0101   \n",
            "\n",
            "                                                   Tweet Emotion  \\\n",
            "25683  #1DDrive #ModiSpeaksToNews18 #LokSabhaElection...     pos   \n",
            "25684  I am seriously worried about future of Indian ...     pos   \n",
            "25685  If @narendramodi is so Bad then Why does @INCI...     neg   \n",
            "25686  On this 23rd March (Pakistan Day), I Urge all ...     neg   \n",
            "25687  @timesofindia #ArvindKejriwal, #AAP sirji pls ...     neg   \n",
            "\n",
            "       Sentiment Polarity  \n",
            "25683            0.000000  \n",
            "25684            0.209524  \n",
            "25685           -0.700000  \n",
            "25686            0.000000  \n",
            "25687           -0.213542  \n"
          ]
        }
      ]
    },
    {
      "cell_type": "code",
      "source": [
        "INC_UPA[\"Sentiment Polarity\"] = INC_UPA[\"Tweet\"].apply(find_pol)\n",
        "print(INC_UPA.tail())"
      ],
      "metadata": {
        "colab": {
          "base_uri": "https://localhost:8080/"
        },
        "id": "BgJMm5cMyCzX",
        "outputId": "cb7b3909-3e9c-4c2a-c9e0-1d8f570ea7c0"
      },
      "execution_count": null,
      "outputs": [
        {
          "output_type": "stream",
          "name": "stdout",
          "text": [
            "       Unnamed: 0                       Date        User  \\\n",
            "14256       14256  2019-03-23 04:53:54+00:00    SunjayJK   \n",
            "14257       14257  2019-03-17 08:53:28+00:00    SunjayJK   \n",
            "14258       14258  2019-03-06 10:20:09+00:00  RAMANKAIRA   \n",
            "14259       14259  2019-03-06 10:18:02+00:00  RAMANKAIRA   \n",
            "14260       14260  2019-03-06 10:11:43+00:00  RAMANKAIRA   \n",
            "\n",
            "                                                   Tweet Emotion  \\\n",
            "14256  @quizzicalguy In this #LokSabhaElections2019, ...     pos   \n",
            "14257  @AnumaVidisha @RahulGandhi @ArvindKejriwal whe...     neg   \n",
            "14258  @sherryontopp Early morning #political move af...     neg   \n",
            "14259  @mayankgandhi04 @mallesh_2004 Early morning #p...     neg   \n",
            "14260  @DrKumarVishwas Early morning #political move ...     neg   \n",
            "\n",
            "       Sentiment Polarity  \n",
            "14256                0.00  \n",
            "14257               -0.50  \n",
            "14258                0.08  \n",
            "14259                0.08  \n",
            "14260                0.08  \n"
          ]
        }
      ]
    },
    {
      "cell_type": "code",
      "source": [
        "BJP_NDA[\"Expression Label\"] = np.where(BJP_NDA[\"Sentiment Polarity\"]>0, \"positive\", \"negative\")\n",
        "BJP_NDA[\"Expression Label\"][BJP_NDA[\"Sentiment Polarity\"]==0]=\"Neutral\"\n",
        "print(BJP_NDA.tail())"
      ],
      "metadata": {
        "colab": {
          "base_uri": "https://localhost:8080/"
        },
        "id": "2rH7lYwMyLqt",
        "outputId": "bd7184bb-41ca-4f93-d874-47d3fd870db2"
      },
      "execution_count": null,
      "outputs": [
        {
          "output_type": "stream",
          "name": "stdout",
          "text": [
            "      Unnamed: 0                       Date           User  \\\n",
            "25683      25678  2019-04-09 12:06:31+00:00     shv_indian   \n",
            "25684      25679  2019-03-29 15:42:44+00:00     SONUPINKOO   \n",
            "25685      25680  2019-03-29 13:28:51+00:00     SONUPINKOO   \n",
            "25686      25681  2019-03-23 05:06:36+00:00     SONUPINKOO   \n",
            "25687      25682  2019-03-19 15:37:34+00:00  parthajit0101   \n",
            "\n",
            "                                                   Tweet Emotion  \\\n",
            "25683  #1DDrive #ModiSpeaksToNews18 #LokSabhaElection...     pos   \n",
            "25684  I am seriously worried about future of Indian ...     pos   \n",
            "25685  If @narendramodi is so Bad then Why does @INCI...     neg   \n",
            "25686  On this 23rd March (Pakistan Day), I Urge all ...     neg   \n",
            "25687  @timesofindia #ArvindKejriwal, #AAP sirji pls ...     neg   \n",
            "\n",
            "       Sentiment Polarity Expression Label  \n",
            "25683            0.000000          Neutral  \n",
            "25684            0.209524         positive  \n",
            "25685           -0.700000         negative  \n",
            "25686            0.000000          Neutral  \n",
            "25687           -0.213542         negative  \n"
          ]
        },
        {
          "output_type": "stream",
          "name": "stderr",
          "text": [
            "<ipython-input-124-3c2b0c9afb88>:2: SettingWithCopyWarning:\n",
            "\n",
            "\n",
            "A value is trying to be set on a copy of a slice from a DataFrame\n",
            "\n",
            "See the caveats in the documentation: https://pandas.pydata.org/pandas-docs/stable/user_guide/indexing.html#returning-a-view-versus-a-copy\n",
            "\n"
          ]
        }
      ]
    },
    {
      "cell_type": "code",
      "source": [
        "INC_UPA[\"Expression Label\"] = np.where(INC_UPA[\"Sentiment Polarity\"]>0, \"positive\", \"negative\")\n",
        "INC_UPA[\"Expression Label\"][BJP_NDA[\"Sentiment Polarity\"]==0]=\"Neutral\"\n",
        "print(INC_UPA.tail())"
      ],
      "metadata": {
        "colab": {
          "base_uri": "https://localhost:8080/"
        },
        "id": "BmiZGO1hyQ6d",
        "outputId": "22b4b3ee-9d77-4323-ad04-cb8017da7b87"
      },
      "execution_count": null,
      "outputs": [
        {
          "output_type": "stream",
          "name": "stdout",
          "text": [
            "       Unnamed: 0                       Date        User  \\\n",
            "14256       14256  2019-03-23 04:53:54+00:00    SunjayJK   \n",
            "14257       14257  2019-03-17 08:53:28+00:00    SunjayJK   \n",
            "14258       14258  2019-03-06 10:20:09+00:00  RAMANKAIRA   \n",
            "14259       14259  2019-03-06 10:18:02+00:00  RAMANKAIRA   \n",
            "14260       14260  2019-03-06 10:11:43+00:00  RAMANKAIRA   \n",
            "\n",
            "                                                   Tweet Emotion  \\\n",
            "14256  @quizzicalguy In this #LokSabhaElections2019, ...     pos   \n",
            "14257  @AnumaVidisha @RahulGandhi @ArvindKejriwal whe...     neg   \n",
            "14258  @sherryontopp Early morning #political move af...     neg   \n",
            "14259  @mayankgandhi04 @mallesh_2004 Early morning #p...     neg   \n",
            "14260  @DrKumarVishwas Early morning #political move ...     neg   \n",
            "\n",
            "       Sentiment Polarity Expression Label  \n",
            "14256                0.00         negative  \n",
            "14257               -0.50         negative  \n",
            "14258                0.08          Neutral  \n",
            "14259                0.08          Neutral  \n",
            "14260                0.08          Neutral  \n"
          ]
        },
        {
          "output_type": "stream",
          "name": "stderr",
          "text": [
            "<ipython-input-100-f8c242c6bc8e>:2: SettingWithCopyWarning:\n",
            "\n",
            "\n",
            "A value is trying to be set on a copy of a slice from a DataFrame\n",
            "\n",
            "See the caveats in the documentation: https://pandas.pydata.org/pandas-docs/stable/user_guide/indexing.html#returning-a-view-versus-a-copy\n",
            "\n"
          ]
        }
      ]
    },
    {
      "cell_type": "code",
      "source": [
        "reviews1 = BJP_NDA[BJP_NDA['Sentiment Polarity'] == 0.0000]\n",
        "print(reviews1.shape)\n",
        "\n",
        "cond1=BJP_NDA['Sentiment Polarity'].isin(reviews1['Sentiment Polarity'])\n",
        "BJP_NDA.drop(BJP_NDA[cond1].index, inplace = True)\n",
        "print(BJP_NDA.shape)\n"
      ],
      "metadata": {
        "colab": {
          "base_uri": "https://localhost:8080/"
        },
        "id": "xlrteScHyrrN",
        "outputId": "d8d4f35b-2c4a-4949-ed41-16c90f5ee39e"
      },
      "execution_count": null,
      "outputs": [
        {
          "output_type": "stream",
          "name": "stdout",
          "text": [
            "(8207, 7)\n",
            "(17481, 7)\n"
          ]
        }
      ]
    },
    {
      "cell_type": "code",
      "source": [
        "reviews2 = INC_UPA[INC_UPA['Sentiment Polarity'] == 0.0000]\n",
        "print(reviews2.shape)\n",
        "\n",
        "cond2=INC_UPA['Sentiment Polarity'].isin(reviews1['Sentiment Polarity'])\n",
        "INC_UPA.drop(INC_UPA[cond2].index, inplace = True)\n",
        "print(INC_UPA.shape)"
      ],
      "metadata": {
        "colab": {
          "base_uri": "https://localhost:8080/"
        },
        "id": "2e2CMnyMy5IK",
        "outputId": "501a11b7-e8fc-4ead-890c-2530c0972709"
      },
      "execution_count": null,
      "outputs": [
        {
          "output_type": "stream",
          "name": "stdout",
          "text": [
            "(4894, 7)\n",
            "(9367, 7)\n"
          ]
        }
      ]
    },
    {
      "cell_type": "code",
      "source": [
        "# BJP & NDA\n",
        "np.random.seed(10)\n",
        "remove_n =324\n",
        "drop_indices = np.random.choice(BJP_NDA.index, remove_n, replace=False)\n",
        "df_subset_Modi = BJP_NDA.drop(drop_indices)\n",
        "print(df_subset_Modi.shape)"
      ],
      "metadata": {
        "colab": {
          "base_uri": "https://localhost:8080/"
        },
        "id": "wOz1u9ZkzB_H",
        "outputId": "a032dfca-b69d-453c-bea1-19b68d029651"
      },
      "execution_count": null,
      "outputs": [
        {
          "output_type": "stream",
          "name": "stdout",
          "text": [
            "(17157, 7)\n"
          ]
        }
      ]
    },
    {
      "cell_type": "code",
      "source": [
        "# INC\n",
        "np.random.seed(10)\n",
        "remove_n =31\n",
        "drop_indices = np.random.choice(INC_UPA.index, remove_n, replace=False)\n",
        "df_subset_Rahul = INC_UPA.drop(drop_indices)\n",
        "print(df_subset_Rahul.shape)"
      ],
      "metadata": {
        "colab": {
          "base_uri": "https://localhost:8080/"
        },
        "id": "QapEqbAjzMHl",
        "outputId": "c2db7cde-1d3e-49a9-9923-d20065c0bb05"
      },
      "execution_count": null,
      "outputs": [
        {
          "output_type": "stream",
          "name": "stdout",
          "text": [
            "(9336, 7)\n"
          ]
        }
      ]
    },
    {
      "cell_type": "code",
      "source": [
        "count_1 = df_subset_Modi.groupby('Expression Label').count()\n",
        "print(count_1)"
      ],
      "metadata": {
        "colab": {
          "base_uri": "https://localhost:8080/"
        },
        "id": "fEedWv9VzTgZ",
        "outputId": "24959b0e-4748-4521-82a5-1f34b7f834d5"
      },
      "execution_count": null,
      "outputs": [
        {
          "output_type": "stream",
          "name": "stdout",
          "text": [
            "                  Unnamed: 0   Date   User  Tweet  Emotion  Sentiment Polarity\n",
            "Expression Label                                                              \n",
            "negative                4925   4925   4925   4925     4924                4925\n",
            "positive               12232  12232  12232  12232    12232               12232\n"
          ]
        }
      ]
    },
    {
      "cell_type": "code",
      "source": [
        "negative_per1 = (count_1['Sentiment Polarity'][0]/1000)*10\n",
        "positive_per1 = (count_1['Sentiment Polarity'][1]/1000)*100"
      ],
      "metadata": {
        "id": "VMJ7T5eczYud"
      },
      "execution_count": null,
      "outputs": []
    },
    {
      "cell_type": "code",
      "source": [
        "count_2 = df_subset_Rahul.groupby('Expression Label').count()\n",
        "print(count_2)"
      ],
      "metadata": {
        "colab": {
          "base_uri": "https://localhost:8080/"
        },
        "id": "SmoxPmFUzcRs",
        "outputId": "d6cb5b37-35c2-4621-d615-cc5601c98c89"
      },
      "execution_count": null,
      "outputs": [
        {
          "output_type": "stream",
          "name": "stdout",
          "text": [
            "                  Unnamed: 0  Date  User  Tweet  Emotion  Sentiment Polarity\n",
            "Expression Label                                                            \n",
            "Neutral                 2934  2934  2934   2934     2934                2934\n",
            "negative                2145  2145  2145   2145     2145                2145\n",
            "positive                4257  4257  4257   4257     4257                4257\n"
          ]
        }
      ]
    },
    {
      "cell_type": "code",
      "source": [
        "negative_per2 = (count_2['Sentiment Polarity'][0]/1000)*100\n",
        "positive_per2 = (count_2['Sentiment Polarity'][1]/1000)*100"
      ],
      "metadata": {
        "id": "eVkj88Dhzcd8"
      },
      "execution_count": null,
      "outputs": []
    },
    {
      "cell_type": "code",
      "source": [
        "Politicians = ['MODI','RAHUL']\n",
        "lis_pos = [positive_per1, positive_per2]\n",
        "lis_neg = [negative_per1, negative_per2]\n",
        "\n",
        "fig = go.Figure(data=[\n",
        "    go.Bar(name='Possibility to win', x=Politicians, y=lis_pos),\n",
        "    go.Bar(name='Possibility to lose', x=Politicians, y=lis_neg)\n",
        "])\n",
        "# Change the bar mode\n",
        "fig.update_layout(barmode='group')\n",
        "fig.show()"
      ],
      "metadata": {
        "colab": {
          "base_uri": "https://localhost:8080/",
          "height": 542
        },
        "id": "MGoGU-I3zm6k",
        "outputId": "6d6984bd-5f5d-4a2e-8e3d-8ecbdc7a792c"
      },
      "execution_count": 148,
      "outputs": [
        {
          "output_type": "display_data",
          "data": {
            "text/html": [
              "<html>\n",
              "<head><meta charset=\"utf-8\" /></head>\n",
              "<body>\n",
              "    <div>            <script src=\"https://cdnjs.cloudflare.com/ajax/libs/mathjax/2.7.5/MathJax.js?config=TeX-AMS-MML_SVG\"></script><script type=\"text/javascript\">if (window.MathJax && window.MathJax.Hub && window.MathJax.Hub.Config) {window.MathJax.Hub.Config({SVG: {font: \"STIX-Web\"}});}</script>                <script type=\"text/javascript\">window.PlotlyConfig = {MathJaxConfig: 'local'};</script>\n",
              "        <script charset=\"utf-8\" src=\"https://cdn.plot.ly/plotly-2.24.1.min.js\"></script>                <div id=\"4b97fa52-4c11-4c11-a895-c28103dfd09a\" class=\"plotly-graph-div\" style=\"height:525px; width:100%;\"></div>            <script type=\"text/javascript\">                                    window.PLOTLYENV=window.PLOTLYENV || {};                                    if (document.getElementById(\"4b97fa52-4c11-4c11-a895-c28103dfd09a\")) {                    Plotly.newPlot(                        \"4b97fa52-4c11-4c11-a895-c28103dfd09a\",                        [{\"name\":\"Possibility to win\",\"x\":[\"MODI\",\"RAHUL\"],\"y\":[60,40],\"type\":\"bar\"},{\"name\":\"Possibility to lose\",\"x\":[\"MODI\",\"RAHUL\"],\"y\":[20,30],\"type\":\"bar\"}],                        {\"template\":{\"data\":{\"histogram2dcontour\":[{\"type\":\"histogram2dcontour\",\"colorbar\":{\"outlinewidth\":0,\"ticks\":\"\"},\"colorscale\":[[0.0,\"#0d0887\"],[0.1111111111111111,\"#46039f\"],[0.2222222222222222,\"#7201a8\"],[0.3333333333333333,\"#9c179e\"],[0.4444444444444444,\"#bd3786\"],[0.5555555555555556,\"#d8576b\"],[0.6666666666666666,\"#ed7953\"],[0.7777777777777778,\"#fb9f3a\"],[0.8888888888888888,\"#fdca26\"],[1.0,\"#f0f921\"]]}],\"choropleth\":[{\"type\":\"choropleth\",\"colorbar\":{\"outlinewidth\":0,\"ticks\":\"\"}}],\"histogram2d\":[{\"type\":\"histogram2d\",\"colorbar\":{\"outlinewidth\":0,\"ticks\":\"\"},\"colorscale\":[[0.0,\"#0d0887\"],[0.1111111111111111,\"#46039f\"],[0.2222222222222222,\"#7201a8\"],[0.3333333333333333,\"#9c179e\"],[0.4444444444444444,\"#bd3786\"],[0.5555555555555556,\"#d8576b\"],[0.6666666666666666,\"#ed7953\"],[0.7777777777777778,\"#fb9f3a\"],[0.8888888888888888,\"#fdca26\"],[1.0,\"#f0f921\"]]}],\"heatmap\":[{\"type\":\"heatmap\",\"colorbar\":{\"outlinewidth\":0,\"ticks\":\"\"},\"colorscale\":[[0.0,\"#0d0887\"],[0.1111111111111111,\"#46039f\"],[0.2222222222222222,\"#7201a8\"],[0.3333333333333333,\"#9c179e\"],[0.4444444444444444,\"#bd3786\"],[0.5555555555555556,\"#d8576b\"],[0.6666666666666666,\"#ed7953\"],[0.7777777777777778,\"#fb9f3a\"],[0.8888888888888888,\"#fdca26\"],[1.0,\"#f0f921\"]]}],\"heatmapgl\":[{\"type\":\"heatmapgl\",\"colorbar\":{\"outlinewidth\":0,\"ticks\":\"\"},\"colorscale\":[[0.0,\"#0d0887\"],[0.1111111111111111,\"#46039f\"],[0.2222222222222222,\"#7201a8\"],[0.3333333333333333,\"#9c179e\"],[0.4444444444444444,\"#bd3786\"],[0.5555555555555556,\"#d8576b\"],[0.6666666666666666,\"#ed7953\"],[0.7777777777777778,\"#fb9f3a\"],[0.8888888888888888,\"#fdca26\"],[1.0,\"#f0f921\"]]}],\"contourcarpet\":[{\"type\":\"contourcarpet\",\"colorbar\":{\"outlinewidth\":0,\"ticks\":\"\"}}],\"contour\":[{\"type\":\"contour\",\"colorbar\":{\"outlinewidth\":0,\"ticks\":\"\"},\"colorscale\":[[0.0,\"#0d0887\"],[0.1111111111111111,\"#46039f\"],[0.2222222222222222,\"#7201a8\"],[0.3333333333333333,\"#9c179e\"],[0.4444444444444444,\"#bd3786\"],[0.5555555555555556,\"#d8576b\"],[0.6666666666666666,\"#ed7953\"],[0.7777777777777778,\"#fb9f3a\"],[0.8888888888888888,\"#fdca26\"],[1.0,\"#f0f921\"]]}],\"surface\":[{\"type\":\"surface\",\"colorbar\":{\"outlinewidth\":0,\"ticks\":\"\"},\"colorscale\":[[0.0,\"#0d0887\"],[0.1111111111111111,\"#46039f\"],[0.2222222222222222,\"#7201a8\"],[0.3333333333333333,\"#9c179e\"],[0.4444444444444444,\"#bd3786\"],[0.5555555555555556,\"#d8576b\"],[0.6666666666666666,\"#ed7953\"],[0.7777777777777778,\"#fb9f3a\"],[0.8888888888888888,\"#fdca26\"],[1.0,\"#f0f921\"]]}],\"mesh3d\":[{\"type\":\"mesh3d\",\"colorbar\":{\"outlinewidth\":0,\"ticks\":\"\"}}],\"scatter\":[{\"fillpattern\":{\"fillmode\":\"overlay\",\"size\":10,\"solidity\":0.2},\"type\":\"scatter\"}],\"parcoords\":[{\"type\":\"parcoords\",\"line\":{\"colorbar\":{\"outlinewidth\":0,\"ticks\":\"\"}}}],\"scatterpolargl\":[{\"type\":\"scatterpolargl\",\"marker\":{\"colorbar\":{\"outlinewidth\":0,\"ticks\":\"\"}}}],\"bar\":[{\"error_x\":{\"color\":\"#2a3f5f\"},\"error_y\":{\"color\":\"#2a3f5f\"},\"marker\":{\"line\":{\"color\":\"#E5ECF6\",\"width\":0.5},\"pattern\":{\"fillmode\":\"overlay\",\"size\":10,\"solidity\":0.2}},\"type\":\"bar\"}],\"scattergeo\":[{\"type\":\"scattergeo\",\"marker\":{\"colorbar\":{\"outlinewidth\":0,\"ticks\":\"\"}}}],\"scatterpolar\":[{\"type\":\"scatterpolar\",\"marker\":{\"colorbar\":{\"outlinewidth\":0,\"ticks\":\"\"}}}],\"histogram\":[{\"marker\":{\"pattern\":{\"fillmode\":\"overlay\",\"size\":10,\"solidity\":0.2}},\"type\":\"histogram\"}],\"scattergl\":[{\"type\":\"scattergl\",\"marker\":{\"colorbar\":{\"outlinewidth\":0,\"ticks\":\"\"}}}],\"scatter3d\":[{\"type\":\"scatter3d\",\"line\":{\"colorbar\":{\"outlinewidth\":0,\"ticks\":\"\"}},\"marker\":{\"colorbar\":{\"outlinewidth\":0,\"ticks\":\"\"}}}],\"scattermapbox\":[{\"type\":\"scattermapbox\",\"marker\":{\"colorbar\":{\"outlinewidth\":0,\"ticks\":\"\"}}}],\"scatterternary\":[{\"type\":\"scatterternary\",\"marker\":{\"colorbar\":{\"outlinewidth\":0,\"ticks\":\"\"}}}],\"scattercarpet\":[{\"type\":\"scattercarpet\",\"marker\":{\"colorbar\":{\"outlinewidth\":0,\"ticks\":\"\"}}}],\"carpet\":[{\"aaxis\":{\"endlinecolor\":\"#2a3f5f\",\"gridcolor\":\"white\",\"linecolor\":\"white\",\"minorgridcolor\":\"white\",\"startlinecolor\":\"#2a3f5f\"},\"baxis\":{\"endlinecolor\":\"#2a3f5f\",\"gridcolor\":\"white\",\"linecolor\":\"white\",\"minorgridcolor\":\"white\",\"startlinecolor\":\"#2a3f5f\"},\"type\":\"carpet\"}],\"table\":[{\"cells\":{\"fill\":{\"color\":\"#EBF0F8\"},\"line\":{\"color\":\"white\"}},\"header\":{\"fill\":{\"color\":\"#C8D4E3\"},\"line\":{\"color\":\"white\"}},\"type\":\"table\"}],\"barpolar\":[{\"marker\":{\"line\":{\"color\":\"#E5ECF6\",\"width\":0.5},\"pattern\":{\"fillmode\":\"overlay\",\"size\":10,\"solidity\":0.2}},\"type\":\"barpolar\"}],\"pie\":[{\"automargin\":true,\"type\":\"pie\"}]},\"layout\":{\"autotypenumbers\":\"strict\",\"colorway\":[\"#636efa\",\"#EF553B\",\"#00cc96\",\"#ab63fa\",\"#FFA15A\",\"#19d3f3\",\"#FF6692\",\"#B6E880\",\"#FF97FF\",\"#FECB52\"],\"font\":{\"color\":\"#2a3f5f\"},\"hovermode\":\"closest\",\"hoverlabel\":{\"align\":\"left\"},\"paper_bgcolor\":\"white\",\"plot_bgcolor\":\"#E5ECF6\",\"polar\":{\"bgcolor\":\"#E5ECF6\",\"angularaxis\":{\"gridcolor\":\"white\",\"linecolor\":\"white\",\"ticks\":\"\"},\"radialaxis\":{\"gridcolor\":\"white\",\"linecolor\":\"white\",\"ticks\":\"\"}},\"ternary\":{\"bgcolor\":\"#E5ECF6\",\"aaxis\":{\"gridcolor\":\"white\",\"linecolor\":\"white\",\"ticks\":\"\"},\"baxis\":{\"gridcolor\":\"white\",\"linecolor\":\"white\",\"ticks\":\"\"},\"caxis\":{\"gridcolor\":\"white\",\"linecolor\":\"white\",\"ticks\":\"\"}},\"coloraxis\":{\"colorbar\":{\"outlinewidth\":0,\"ticks\":\"\"}},\"colorscale\":{\"sequential\":[[0.0,\"#0d0887\"],[0.1111111111111111,\"#46039f\"],[0.2222222222222222,\"#7201a8\"],[0.3333333333333333,\"#9c179e\"],[0.4444444444444444,\"#bd3786\"],[0.5555555555555556,\"#d8576b\"],[0.6666666666666666,\"#ed7953\"],[0.7777777777777778,\"#fb9f3a\"],[0.8888888888888888,\"#fdca26\"],[1.0,\"#f0f921\"]],\"sequentialminus\":[[0.0,\"#0d0887\"],[0.1111111111111111,\"#46039f\"],[0.2222222222222222,\"#7201a8\"],[0.3333333333333333,\"#9c179e\"],[0.4444444444444444,\"#bd3786\"],[0.5555555555555556,\"#d8576b\"],[0.6666666666666666,\"#ed7953\"],[0.7777777777777778,\"#fb9f3a\"],[0.8888888888888888,\"#fdca26\"],[1.0,\"#f0f921\"]],\"diverging\":[[0,\"#8e0152\"],[0.1,\"#c51b7d\"],[0.2,\"#de77ae\"],[0.3,\"#f1b6da\"],[0.4,\"#fde0ef\"],[0.5,\"#f7f7f7\"],[0.6,\"#e6f5d0\"],[0.7,\"#b8e186\"],[0.8,\"#7fbc41\"],[0.9,\"#4d9221\"],[1,\"#276419\"]]},\"xaxis\":{\"gridcolor\":\"white\",\"linecolor\":\"white\",\"ticks\":\"\",\"title\":{\"standoff\":15},\"zerolinecolor\":\"white\",\"automargin\":true,\"zerolinewidth\":2},\"yaxis\":{\"gridcolor\":\"white\",\"linecolor\":\"white\",\"ticks\":\"\",\"title\":{\"standoff\":15},\"zerolinecolor\":\"white\",\"automargin\":true,\"zerolinewidth\":2},\"scene\":{\"xaxis\":{\"backgroundcolor\":\"#E5ECF6\",\"gridcolor\":\"white\",\"linecolor\":\"white\",\"showbackground\":true,\"ticks\":\"\",\"zerolinecolor\":\"white\",\"gridwidth\":2},\"yaxis\":{\"backgroundcolor\":\"#E5ECF6\",\"gridcolor\":\"white\",\"linecolor\":\"white\",\"showbackground\":true,\"ticks\":\"\",\"zerolinecolor\":\"white\",\"gridwidth\":2},\"zaxis\":{\"backgroundcolor\":\"#E5ECF6\",\"gridcolor\":\"white\",\"linecolor\":\"white\",\"showbackground\":true,\"ticks\":\"\",\"zerolinecolor\":\"white\",\"gridwidth\":2}},\"shapedefaults\":{\"line\":{\"color\":\"#2a3f5f\"}},\"annotationdefaults\":{\"arrowcolor\":\"#2a3f5f\",\"arrowhead\":0,\"arrowwidth\":1},\"geo\":{\"bgcolor\":\"white\",\"landcolor\":\"#E5ECF6\",\"subunitcolor\":\"white\",\"showland\":true,\"showlakes\":true,\"lakecolor\":\"white\"},\"title\":{\"x\":0.05},\"mapbox\":{\"style\":\"light\"}}},\"barmode\":\"group\"},                        {\"responsive\": true}                    ).then(function(){\n",
              "                            \n",
              "var gd = document.getElementById('4b97fa52-4c11-4c11-a895-c28103dfd09a');\n",
              "var x = new MutationObserver(function (mutations, observer) {{\n",
              "        var display = window.getComputedStyle(gd).display;\n",
              "        if (!display || display === 'none') {{\n",
              "            console.log([gd, 'removed!']);\n",
              "            Plotly.purge(gd);\n",
              "            observer.disconnect();\n",
              "        }}\n",
              "}});\n",
              "\n",
              "// Listen for the removal of the full notebook cells\n",
              "var notebookContainer = gd.closest('#notebook-container');\n",
              "if (notebookContainer) {{\n",
              "    x.observe(notebookContainer, {childList: true});\n",
              "}}\n",
              "\n",
              "// Listen for the clearing of the current output cell\n",
              "var outputEl = gd.closest('.output');\n",
              "if (outputEl) {{\n",
              "    x.observe(outputEl, {childList: true});\n",
              "}}\n",
              "\n",
              "                        })                };                            </script>        </div>\n",
              "</body>\n",
              "</html>"
            ]
          },
          "metadata": {}
        }
      ]
    },
    {
      "cell_type": "code",
      "source": [
        "import plotly.graph_objects as go"
      ],
      "metadata": {
        "id": "EqjNhHB86vyj"
      },
      "execution_count": null,
      "outputs": []
    },
    {
      "cell_type": "code",
      "source": [
        "# Assuming you have the positive and negative percentages for each politician\n",
        "Politicians = ['MODI', 'RAHUL']\n",
        "positive_per1 = 60  # Replace with actual value\n",
        "positive_per2 = 40  # Replace with actual value\n",
        "negative_per1 = 20  # Replace with actual value\n",
        "negative_per2 = 30  # Replace with actual value\n",
        "\n",
        "# Combine positive and negative percentages into a single list for pie chart\n",
        "data = [positive_per1, negative_per1, positive_per2, negative_per2]\n",
        "\n",
        "# Create labels for each slice (politician and sentiment)\n",
        "labels = []\n",
        "for politician, pos_per, neg_per in zip(Politicians, data[::2], data[1::2]):\n",
        "    labels.append(f\"{politician} (Positive)\")\n",
        "    labels.append(f\"{politician} (Negative)\")\n",
        "\n",
        "# Create the pie chart\n",
        "fig = go.Figure(data=[go.Pie(labels=labels, values=data)])\n",
        "\n",
        "# Customize the pie chart (optional)\n",
        "fig.update_traces(textposition='inside', textinfo='percent+label')  # Show labels and percentages inside slices\n",
        "\n",
        "fig.show()"
      ],
      "metadata": {
        "colab": {
          "base_uri": "https://localhost:8080/",
          "height": 542
        },
        "id": "6wc-uowA6qlg",
        "outputId": "68f6056c-8fd0-4d9b-ad83-085bd80abca2"
      },
      "execution_count": null,
      "outputs": [
        {
          "output_type": "display_data",
          "data": {
            "text/html": [
              "<html>\n",
              "<head><meta charset=\"utf-8\" /></head>\n",
              "<body>\n",
              "    <div>            <script src=\"https://cdnjs.cloudflare.com/ajax/libs/mathjax/2.7.5/MathJax.js?config=TeX-AMS-MML_SVG\"></script><script type=\"text/javascript\">if (window.MathJax && window.MathJax.Hub && window.MathJax.Hub.Config) {window.MathJax.Hub.Config({SVG: {font: \"STIX-Web\"}});}</script>                <script type=\"text/javascript\">window.PlotlyConfig = {MathJaxConfig: 'local'};</script>\n",
              "        <script charset=\"utf-8\" src=\"https://cdn.plot.ly/plotly-2.24.1.min.js\"></script>                <div id=\"28b21851-408d-4456-916a-2fb38d0fab4e\" class=\"plotly-graph-div\" style=\"height:525px; width:100%;\"></div>            <script type=\"text/javascript\">                                    window.PLOTLYENV=window.PLOTLYENV || {};                                    if (document.getElementById(\"28b21851-408d-4456-916a-2fb38d0fab4e\")) {                    Plotly.newPlot(                        \"28b21851-408d-4456-916a-2fb38d0fab4e\",                        [{\"labels\":[\"MODI (Positive)\",\"MODI (Negative)\",\"RAHUL (Positive)\",\"RAHUL (Negative)\"],\"values\":[60,20,40,30],\"type\":\"pie\",\"textinfo\":\"percent+label\",\"textposition\":\"inside\"}],                        {\"template\":{\"data\":{\"histogram2dcontour\":[{\"type\":\"histogram2dcontour\",\"colorbar\":{\"outlinewidth\":0,\"ticks\":\"\"},\"colorscale\":[[0.0,\"#0d0887\"],[0.1111111111111111,\"#46039f\"],[0.2222222222222222,\"#7201a8\"],[0.3333333333333333,\"#9c179e\"],[0.4444444444444444,\"#bd3786\"],[0.5555555555555556,\"#d8576b\"],[0.6666666666666666,\"#ed7953\"],[0.7777777777777778,\"#fb9f3a\"],[0.8888888888888888,\"#fdca26\"],[1.0,\"#f0f921\"]]}],\"choropleth\":[{\"type\":\"choropleth\",\"colorbar\":{\"outlinewidth\":0,\"ticks\":\"\"}}],\"histogram2d\":[{\"type\":\"histogram2d\",\"colorbar\":{\"outlinewidth\":0,\"ticks\":\"\"},\"colorscale\":[[0.0,\"#0d0887\"],[0.1111111111111111,\"#46039f\"],[0.2222222222222222,\"#7201a8\"],[0.3333333333333333,\"#9c179e\"],[0.4444444444444444,\"#bd3786\"],[0.5555555555555556,\"#d8576b\"],[0.6666666666666666,\"#ed7953\"],[0.7777777777777778,\"#fb9f3a\"],[0.8888888888888888,\"#fdca26\"],[1.0,\"#f0f921\"]]}],\"heatmap\":[{\"type\":\"heatmap\",\"colorbar\":{\"outlinewidth\":0,\"ticks\":\"\"},\"colorscale\":[[0.0,\"#0d0887\"],[0.1111111111111111,\"#46039f\"],[0.2222222222222222,\"#7201a8\"],[0.3333333333333333,\"#9c179e\"],[0.4444444444444444,\"#bd3786\"],[0.5555555555555556,\"#d8576b\"],[0.6666666666666666,\"#ed7953\"],[0.7777777777777778,\"#fb9f3a\"],[0.8888888888888888,\"#fdca26\"],[1.0,\"#f0f921\"]]}],\"heatmapgl\":[{\"type\":\"heatmapgl\",\"colorbar\":{\"outlinewidth\":0,\"ticks\":\"\"},\"colorscale\":[[0.0,\"#0d0887\"],[0.1111111111111111,\"#46039f\"],[0.2222222222222222,\"#7201a8\"],[0.3333333333333333,\"#9c179e\"],[0.4444444444444444,\"#bd3786\"],[0.5555555555555556,\"#d8576b\"],[0.6666666666666666,\"#ed7953\"],[0.7777777777777778,\"#fb9f3a\"],[0.8888888888888888,\"#fdca26\"],[1.0,\"#f0f921\"]]}],\"contourcarpet\":[{\"type\":\"contourcarpet\",\"colorbar\":{\"outlinewidth\":0,\"ticks\":\"\"}}],\"contour\":[{\"type\":\"contour\",\"colorbar\":{\"outlinewidth\":0,\"ticks\":\"\"},\"colorscale\":[[0.0,\"#0d0887\"],[0.1111111111111111,\"#46039f\"],[0.2222222222222222,\"#7201a8\"],[0.3333333333333333,\"#9c179e\"],[0.4444444444444444,\"#bd3786\"],[0.5555555555555556,\"#d8576b\"],[0.6666666666666666,\"#ed7953\"],[0.7777777777777778,\"#fb9f3a\"],[0.8888888888888888,\"#fdca26\"],[1.0,\"#f0f921\"]]}],\"surface\":[{\"type\":\"surface\",\"colorbar\":{\"outlinewidth\":0,\"ticks\":\"\"},\"colorscale\":[[0.0,\"#0d0887\"],[0.1111111111111111,\"#46039f\"],[0.2222222222222222,\"#7201a8\"],[0.3333333333333333,\"#9c179e\"],[0.4444444444444444,\"#bd3786\"],[0.5555555555555556,\"#d8576b\"],[0.6666666666666666,\"#ed7953\"],[0.7777777777777778,\"#fb9f3a\"],[0.8888888888888888,\"#fdca26\"],[1.0,\"#f0f921\"]]}],\"mesh3d\":[{\"type\":\"mesh3d\",\"colorbar\":{\"outlinewidth\":0,\"ticks\":\"\"}}],\"scatter\":[{\"fillpattern\":{\"fillmode\":\"overlay\",\"size\":10,\"solidity\":0.2},\"type\":\"scatter\"}],\"parcoords\":[{\"type\":\"parcoords\",\"line\":{\"colorbar\":{\"outlinewidth\":0,\"ticks\":\"\"}}}],\"scatterpolargl\":[{\"type\":\"scatterpolargl\",\"marker\":{\"colorbar\":{\"outlinewidth\":0,\"ticks\":\"\"}}}],\"bar\":[{\"error_x\":{\"color\":\"#2a3f5f\"},\"error_y\":{\"color\":\"#2a3f5f\"},\"marker\":{\"line\":{\"color\":\"#E5ECF6\",\"width\":0.5},\"pattern\":{\"fillmode\":\"overlay\",\"size\":10,\"solidity\":0.2}},\"type\":\"bar\"}],\"scattergeo\":[{\"type\":\"scattergeo\",\"marker\":{\"colorbar\":{\"outlinewidth\":0,\"ticks\":\"\"}}}],\"scatterpolar\":[{\"type\":\"scatterpolar\",\"marker\":{\"colorbar\":{\"outlinewidth\":0,\"ticks\":\"\"}}}],\"histogram\":[{\"marker\":{\"pattern\":{\"fillmode\":\"overlay\",\"size\":10,\"solidity\":0.2}},\"type\":\"histogram\"}],\"scattergl\":[{\"type\":\"scattergl\",\"marker\":{\"colorbar\":{\"outlinewidth\":0,\"ticks\":\"\"}}}],\"scatter3d\":[{\"type\":\"scatter3d\",\"line\":{\"colorbar\":{\"outlinewidth\":0,\"ticks\":\"\"}},\"marker\":{\"colorbar\":{\"outlinewidth\":0,\"ticks\":\"\"}}}],\"scattermapbox\":[{\"type\":\"scattermapbox\",\"marker\":{\"colorbar\":{\"outlinewidth\":0,\"ticks\":\"\"}}}],\"scatterternary\":[{\"type\":\"scatterternary\",\"marker\":{\"colorbar\":{\"outlinewidth\":0,\"ticks\":\"\"}}}],\"scattercarpet\":[{\"type\":\"scattercarpet\",\"marker\":{\"colorbar\":{\"outlinewidth\":0,\"ticks\":\"\"}}}],\"carpet\":[{\"aaxis\":{\"endlinecolor\":\"#2a3f5f\",\"gridcolor\":\"white\",\"linecolor\":\"white\",\"minorgridcolor\":\"white\",\"startlinecolor\":\"#2a3f5f\"},\"baxis\":{\"endlinecolor\":\"#2a3f5f\",\"gridcolor\":\"white\",\"linecolor\":\"white\",\"minorgridcolor\":\"white\",\"startlinecolor\":\"#2a3f5f\"},\"type\":\"carpet\"}],\"table\":[{\"cells\":{\"fill\":{\"color\":\"#EBF0F8\"},\"line\":{\"color\":\"white\"}},\"header\":{\"fill\":{\"color\":\"#C8D4E3\"},\"line\":{\"color\":\"white\"}},\"type\":\"table\"}],\"barpolar\":[{\"marker\":{\"line\":{\"color\":\"#E5ECF6\",\"width\":0.5},\"pattern\":{\"fillmode\":\"overlay\",\"size\":10,\"solidity\":0.2}},\"type\":\"barpolar\"}],\"pie\":[{\"automargin\":true,\"type\":\"pie\"}]},\"layout\":{\"autotypenumbers\":\"strict\",\"colorway\":[\"#636efa\",\"#EF553B\",\"#00cc96\",\"#ab63fa\",\"#FFA15A\",\"#19d3f3\",\"#FF6692\",\"#B6E880\",\"#FF97FF\",\"#FECB52\"],\"font\":{\"color\":\"#2a3f5f\"},\"hovermode\":\"closest\",\"hoverlabel\":{\"align\":\"left\"},\"paper_bgcolor\":\"white\",\"plot_bgcolor\":\"#E5ECF6\",\"polar\":{\"bgcolor\":\"#E5ECF6\",\"angularaxis\":{\"gridcolor\":\"white\",\"linecolor\":\"white\",\"ticks\":\"\"},\"radialaxis\":{\"gridcolor\":\"white\",\"linecolor\":\"white\",\"ticks\":\"\"}},\"ternary\":{\"bgcolor\":\"#E5ECF6\",\"aaxis\":{\"gridcolor\":\"white\",\"linecolor\":\"white\",\"ticks\":\"\"},\"baxis\":{\"gridcolor\":\"white\",\"linecolor\":\"white\",\"ticks\":\"\"},\"caxis\":{\"gridcolor\":\"white\",\"linecolor\":\"white\",\"ticks\":\"\"}},\"coloraxis\":{\"colorbar\":{\"outlinewidth\":0,\"ticks\":\"\"}},\"colorscale\":{\"sequential\":[[0.0,\"#0d0887\"],[0.1111111111111111,\"#46039f\"],[0.2222222222222222,\"#7201a8\"],[0.3333333333333333,\"#9c179e\"],[0.4444444444444444,\"#bd3786\"],[0.5555555555555556,\"#d8576b\"],[0.6666666666666666,\"#ed7953\"],[0.7777777777777778,\"#fb9f3a\"],[0.8888888888888888,\"#fdca26\"],[1.0,\"#f0f921\"]],\"sequentialminus\":[[0.0,\"#0d0887\"],[0.1111111111111111,\"#46039f\"],[0.2222222222222222,\"#7201a8\"],[0.3333333333333333,\"#9c179e\"],[0.4444444444444444,\"#bd3786\"],[0.5555555555555556,\"#d8576b\"],[0.6666666666666666,\"#ed7953\"],[0.7777777777777778,\"#fb9f3a\"],[0.8888888888888888,\"#fdca26\"],[1.0,\"#f0f921\"]],\"diverging\":[[0,\"#8e0152\"],[0.1,\"#c51b7d\"],[0.2,\"#de77ae\"],[0.3,\"#f1b6da\"],[0.4,\"#fde0ef\"],[0.5,\"#f7f7f7\"],[0.6,\"#e6f5d0\"],[0.7,\"#b8e186\"],[0.8,\"#7fbc41\"],[0.9,\"#4d9221\"],[1,\"#276419\"]]},\"xaxis\":{\"gridcolor\":\"white\",\"linecolor\":\"white\",\"ticks\":\"\",\"title\":{\"standoff\":15},\"zerolinecolor\":\"white\",\"automargin\":true,\"zerolinewidth\":2},\"yaxis\":{\"gridcolor\":\"white\",\"linecolor\":\"white\",\"ticks\":\"\",\"title\":{\"standoff\":15},\"zerolinecolor\":\"white\",\"automargin\":true,\"zerolinewidth\":2},\"scene\":{\"xaxis\":{\"backgroundcolor\":\"#E5ECF6\",\"gridcolor\":\"white\",\"linecolor\":\"white\",\"showbackground\":true,\"ticks\":\"\",\"zerolinecolor\":\"white\",\"gridwidth\":2},\"yaxis\":{\"backgroundcolor\":\"#E5ECF6\",\"gridcolor\":\"white\",\"linecolor\":\"white\",\"showbackground\":true,\"ticks\":\"\",\"zerolinecolor\":\"white\",\"gridwidth\":2},\"zaxis\":{\"backgroundcolor\":\"#E5ECF6\",\"gridcolor\":\"white\",\"linecolor\":\"white\",\"showbackground\":true,\"ticks\":\"\",\"zerolinecolor\":\"white\",\"gridwidth\":2}},\"shapedefaults\":{\"line\":{\"color\":\"#2a3f5f\"}},\"annotationdefaults\":{\"arrowcolor\":\"#2a3f5f\",\"arrowhead\":0,\"arrowwidth\":1},\"geo\":{\"bgcolor\":\"white\",\"landcolor\":\"#E5ECF6\",\"subunitcolor\":\"white\",\"showland\":true,\"showlakes\":true,\"lakecolor\":\"white\"},\"title\":{\"x\":0.05},\"mapbox\":{\"style\":\"light\"}}}},                        {\"responsive\": true}                    ).then(function(){\n",
              "                            \n",
              "var gd = document.getElementById('28b21851-408d-4456-916a-2fb38d0fab4e');\n",
              "var x = new MutationObserver(function (mutations, observer) {{\n",
              "        var display = window.getComputedStyle(gd).display;\n",
              "        if (!display || display === 'none') {{\n",
              "            console.log([gd, 'removed!']);\n",
              "            Plotly.purge(gd);\n",
              "            observer.disconnect();\n",
              "        }}\n",
              "}});\n",
              "\n",
              "// Listen for the removal of the full notebook cells\n",
              "var notebookContainer = gd.closest('#notebook-container');\n",
              "if (notebookContainer) {{\n",
              "    x.observe(notebookContainer, {childList: true});\n",
              "}}\n",
              "\n",
              "// Listen for the clearing of the current output cell\n",
              "var outputEl = gd.closest('.output');\n",
              "if (outputEl) {{\n",
              "    x.observe(outputEl, {childList: true});\n",
              "}}\n",
              "\n",
              "                        })                };                            </script>        </div>\n",
              "</body>\n",
              "</html>"
            ]
          },
          "metadata": {}
        }
      ]
    },
    {
      "cell_type": "code",
      "source": [
        "import plotly.graph_objects as go\n",
        "\n",
        "Politicians = ['MODI', 'RAHUL']\n",
        "lis_pos = [positive_per1, positive_per2]\n",
        "lis_neg = [negative_per1, negative_per2]\n",
        "\n",
        "fig = go.Figure()\n",
        "fig.add_trace(go.Box(y=lis_pos, name='Positive', boxpoints='all', jitter=0.3, pointpos=-1.8))\n",
        "fig.add_trace(go.Box(y=lis_neg, name='Negative', boxpoints='all', jitter=0.3, pointpos=-1.8))\n",
        "\n",
        "# Update layout\n",
        "fig.update_layout(title='Sentiment Box Plot',\n",
        "                  xaxis_title='Politician',\n",
        "                  yaxis_title='Sentiment Score')\n",
        "\n",
        "fig.show()\n"
      ],
      "metadata": {
        "colab": {
          "base_uri": "https://localhost:8080/",
          "height": 542
        },
        "id": "L5--1B_996Pa",
        "outputId": "7a46410a-74a8-405a-cb4d-6d2cfdfd3ad5"
      },
      "execution_count": null,
      "outputs": [
        {
          "output_type": "display_data",
          "data": {
            "text/html": [
              "<html>\n",
              "<head><meta charset=\"utf-8\" /></head>\n",
              "<body>\n",
              "    <div>            <script src=\"https://cdnjs.cloudflare.com/ajax/libs/mathjax/2.7.5/MathJax.js?config=TeX-AMS-MML_SVG\"></script><script type=\"text/javascript\">if (window.MathJax && window.MathJax.Hub && window.MathJax.Hub.Config) {window.MathJax.Hub.Config({SVG: {font: \"STIX-Web\"}});}</script>                <script type=\"text/javascript\">window.PlotlyConfig = {MathJaxConfig: 'local'};</script>\n",
              "        <script charset=\"utf-8\" src=\"https://cdn.plot.ly/plotly-2.24.1.min.js\"></script>                <div id=\"f67b58e4-3d00-4735-9266-a8b2678bc2bf\" class=\"plotly-graph-div\" style=\"height:525px; width:100%;\"></div>            <script type=\"text/javascript\">                                    window.PLOTLYENV=window.PLOTLYENV || {};                                    if (document.getElementById(\"f67b58e4-3d00-4735-9266-a8b2678bc2bf\")) {                    Plotly.newPlot(                        \"f67b58e4-3d00-4735-9266-a8b2678bc2bf\",                        [{\"boxpoints\":\"all\",\"jitter\":0.3,\"name\":\"Positive\",\"pointpos\":-1.8,\"y\":[60,40],\"type\":\"box\"},{\"boxpoints\":\"all\",\"jitter\":0.3,\"name\":\"Negative\",\"pointpos\":-1.8,\"y\":[20,30],\"type\":\"box\"}],                        {\"template\":{\"data\":{\"histogram2dcontour\":[{\"type\":\"histogram2dcontour\",\"colorbar\":{\"outlinewidth\":0,\"ticks\":\"\"},\"colorscale\":[[0.0,\"#0d0887\"],[0.1111111111111111,\"#46039f\"],[0.2222222222222222,\"#7201a8\"],[0.3333333333333333,\"#9c179e\"],[0.4444444444444444,\"#bd3786\"],[0.5555555555555556,\"#d8576b\"],[0.6666666666666666,\"#ed7953\"],[0.7777777777777778,\"#fb9f3a\"],[0.8888888888888888,\"#fdca26\"],[1.0,\"#f0f921\"]]}],\"choropleth\":[{\"type\":\"choropleth\",\"colorbar\":{\"outlinewidth\":0,\"ticks\":\"\"}}],\"histogram2d\":[{\"type\":\"histogram2d\",\"colorbar\":{\"outlinewidth\":0,\"ticks\":\"\"},\"colorscale\":[[0.0,\"#0d0887\"],[0.1111111111111111,\"#46039f\"],[0.2222222222222222,\"#7201a8\"],[0.3333333333333333,\"#9c179e\"],[0.4444444444444444,\"#bd3786\"],[0.5555555555555556,\"#d8576b\"],[0.6666666666666666,\"#ed7953\"],[0.7777777777777778,\"#fb9f3a\"],[0.8888888888888888,\"#fdca26\"],[1.0,\"#f0f921\"]]}],\"heatmap\":[{\"type\":\"heatmap\",\"colorbar\":{\"outlinewidth\":0,\"ticks\":\"\"},\"colorscale\":[[0.0,\"#0d0887\"],[0.1111111111111111,\"#46039f\"],[0.2222222222222222,\"#7201a8\"],[0.3333333333333333,\"#9c179e\"],[0.4444444444444444,\"#bd3786\"],[0.5555555555555556,\"#d8576b\"],[0.6666666666666666,\"#ed7953\"],[0.7777777777777778,\"#fb9f3a\"],[0.8888888888888888,\"#fdca26\"],[1.0,\"#f0f921\"]]}],\"heatmapgl\":[{\"type\":\"heatmapgl\",\"colorbar\":{\"outlinewidth\":0,\"ticks\":\"\"},\"colorscale\":[[0.0,\"#0d0887\"],[0.1111111111111111,\"#46039f\"],[0.2222222222222222,\"#7201a8\"],[0.3333333333333333,\"#9c179e\"],[0.4444444444444444,\"#bd3786\"],[0.5555555555555556,\"#d8576b\"],[0.6666666666666666,\"#ed7953\"],[0.7777777777777778,\"#fb9f3a\"],[0.8888888888888888,\"#fdca26\"],[1.0,\"#f0f921\"]]}],\"contourcarpet\":[{\"type\":\"contourcarpet\",\"colorbar\":{\"outlinewidth\":0,\"ticks\":\"\"}}],\"contour\":[{\"type\":\"contour\",\"colorbar\":{\"outlinewidth\":0,\"ticks\":\"\"},\"colorscale\":[[0.0,\"#0d0887\"],[0.1111111111111111,\"#46039f\"],[0.2222222222222222,\"#7201a8\"],[0.3333333333333333,\"#9c179e\"],[0.4444444444444444,\"#bd3786\"],[0.5555555555555556,\"#d8576b\"],[0.6666666666666666,\"#ed7953\"],[0.7777777777777778,\"#fb9f3a\"],[0.8888888888888888,\"#fdca26\"],[1.0,\"#f0f921\"]]}],\"surface\":[{\"type\":\"surface\",\"colorbar\":{\"outlinewidth\":0,\"ticks\":\"\"},\"colorscale\":[[0.0,\"#0d0887\"],[0.1111111111111111,\"#46039f\"],[0.2222222222222222,\"#7201a8\"],[0.3333333333333333,\"#9c179e\"],[0.4444444444444444,\"#bd3786\"],[0.5555555555555556,\"#d8576b\"],[0.6666666666666666,\"#ed7953\"],[0.7777777777777778,\"#fb9f3a\"],[0.8888888888888888,\"#fdca26\"],[1.0,\"#f0f921\"]]}],\"mesh3d\":[{\"type\":\"mesh3d\",\"colorbar\":{\"outlinewidth\":0,\"ticks\":\"\"}}],\"scatter\":[{\"fillpattern\":{\"fillmode\":\"overlay\",\"size\":10,\"solidity\":0.2},\"type\":\"scatter\"}],\"parcoords\":[{\"type\":\"parcoords\",\"line\":{\"colorbar\":{\"outlinewidth\":0,\"ticks\":\"\"}}}],\"scatterpolargl\":[{\"type\":\"scatterpolargl\",\"marker\":{\"colorbar\":{\"outlinewidth\":0,\"ticks\":\"\"}}}],\"bar\":[{\"error_x\":{\"color\":\"#2a3f5f\"},\"error_y\":{\"color\":\"#2a3f5f\"},\"marker\":{\"line\":{\"color\":\"#E5ECF6\",\"width\":0.5},\"pattern\":{\"fillmode\":\"overlay\",\"size\":10,\"solidity\":0.2}},\"type\":\"bar\"}],\"scattergeo\":[{\"type\":\"scattergeo\",\"marker\":{\"colorbar\":{\"outlinewidth\":0,\"ticks\":\"\"}}}],\"scatterpolar\":[{\"type\":\"scatterpolar\",\"marker\":{\"colorbar\":{\"outlinewidth\":0,\"ticks\":\"\"}}}],\"histogram\":[{\"marker\":{\"pattern\":{\"fillmode\":\"overlay\",\"size\":10,\"solidity\":0.2}},\"type\":\"histogram\"}],\"scattergl\":[{\"type\":\"scattergl\",\"marker\":{\"colorbar\":{\"outlinewidth\":0,\"ticks\":\"\"}}}],\"scatter3d\":[{\"type\":\"scatter3d\",\"line\":{\"colorbar\":{\"outlinewidth\":0,\"ticks\":\"\"}},\"marker\":{\"colorbar\":{\"outlinewidth\":0,\"ticks\":\"\"}}}],\"scattermapbox\":[{\"type\":\"scattermapbox\",\"marker\":{\"colorbar\":{\"outlinewidth\":0,\"ticks\":\"\"}}}],\"scatterternary\":[{\"type\":\"scatterternary\",\"marker\":{\"colorbar\":{\"outlinewidth\":0,\"ticks\":\"\"}}}],\"scattercarpet\":[{\"type\":\"scattercarpet\",\"marker\":{\"colorbar\":{\"outlinewidth\":0,\"ticks\":\"\"}}}],\"carpet\":[{\"aaxis\":{\"endlinecolor\":\"#2a3f5f\",\"gridcolor\":\"white\",\"linecolor\":\"white\",\"minorgridcolor\":\"white\",\"startlinecolor\":\"#2a3f5f\"},\"baxis\":{\"endlinecolor\":\"#2a3f5f\",\"gridcolor\":\"white\",\"linecolor\":\"white\",\"minorgridcolor\":\"white\",\"startlinecolor\":\"#2a3f5f\"},\"type\":\"carpet\"}],\"table\":[{\"cells\":{\"fill\":{\"color\":\"#EBF0F8\"},\"line\":{\"color\":\"white\"}},\"header\":{\"fill\":{\"color\":\"#C8D4E3\"},\"line\":{\"color\":\"white\"}},\"type\":\"table\"}],\"barpolar\":[{\"marker\":{\"line\":{\"color\":\"#E5ECF6\",\"width\":0.5},\"pattern\":{\"fillmode\":\"overlay\",\"size\":10,\"solidity\":0.2}},\"type\":\"barpolar\"}],\"pie\":[{\"automargin\":true,\"type\":\"pie\"}]},\"layout\":{\"autotypenumbers\":\"strict\",\"colorway\":[\"#636efa\",\"#EF553B\",\"#00cc96\",\"#ab63fa\",\"#FFA15A\",\"#19d3f3\",\"#FF6692\",\"#B6E880\",\"#FF97FF\",\"#FECB52\"],\"font\":{\"color\":\"#2a3f5f\"},\"hovermode\":\"closest\",\"hoverlabel\":{\"align\":\"left\"},\"paper_bgcolor\":\"white\",\"plot_bgcolor\":\"#E5ECF6\",\"polar\":{\"bgcolor\":\"#E5ECF6\",\"angularaxis\":{\"gridcolor\":\"white\",\"linecolor\":\"white\",\"ticks\":\"\"},\"radialaxis\":{\"gridcolor\":\"white\",\"linecolor\":\"white\",\"ticks\":\"\"}},\"ternary\":{\"bgcolor\":\"#E5ECF6\",\"aaxis\":{\"gridcolor\":\"white\",\"linecolor\":\"white\",\"ticks\":\"\"},\"baxis\":{\"gridcolor\":\"white\",\"linecolor\":\"white\",\"ticks\":\"\"},\"caxis\":{\"gridcolor\":\"white\",\"linecolor\":\"white\",\"ticks\":\"\"}},\"coloraxis\":{\"colorbar\":{\"outlinewidth\":0,\"ticks\":\"\"}},\"colorscale\":{\"sequential\":[[0.0,\"#0d0887\"],[0.1111111111111111,\"#46039f\"],[0.2222222222222222,\"#7201a8\"],[0.3333333333333333,\"#9c179e\"],[0.4444444444444444,\"#bd3786\"],[0.5555555555555556,\"#d8576b\"],[0.6666666666666666,\"#ed7953\"],[0.7777777777777778,\"#fb9f3a\"],[0.8888888888888888,\"#fdca26\"],[1.0,\"#f0f921\"]],\"sequentialminus\":[[0.0,\"#0d0887\"],[0.1111111111111111,\"#46039f\"],[0.2222222222222222,\"#7201a8\"],[0.3333333333333333,\"#9c179e\"],[0.4444444444444444,\"#bd3786\"],[0.5555555555555556,\"#d8576b\"],[0.6666666666666666,\"#ed7953\"],[0.7777777777777778,\"#fb9f3a\"],[0.8888888888888888,\"#fdca26\"],[1.0,\"#f0f921\"]],\"diverging\":[[0,\"#8e0152\"],[0.1,\"#c51b7d\"],[0.2,\"#de77ae\"],[0.3,\"#f1b6da\"],[0.4,\"#fde0ef\"],[0.5,\"#f7f7f7\"],[0.6,\"#e6f5d0\"],[0.7,\"#b8e186\"],[0.8,\"#7fbc41\"],[0.9,\"#4d9221\"],[1,\"#276419\"]]},\"xaxis\":{\"gridcolor\":\"white\",\"linecolor\":\"white\",\"ticks\":\"\",\"title\":{\"standoff\":15},\"zerolinecolor\":\"white\",\"automargin\":true,\"zerolinewidth\":2},\"yaxis\":{\"gridcolor\":\"white\",\"linecolor\":\"white\",\"ticks\":\"\",\"title\":{\"standoff\":15},\"zerolinecolor\":\"white\",\"automargin\":true,\"zerolinewidth\":2},\"scene\":{\"xaxis\":{\"backgroundcolor\":\"#E5ECF6\",\"gridcolor\":\"white\",\"linecolor\":\"white\",\"showbackground\":true,\"ticks\":\"\",\"zerolinecolor\":\"white\",\"gridwidth\":2},\"yaxis\":{\"backgroundcolor\":\"#E5ECF6\",\"gridcolor\":\"white\",\"linecolor\":\"white\",\"showbackground\":true,\"ticks\":\"\",\"zerolinecolor\":\"white\",\"gridwidth\":2},\"zaxis\":{\"backgroundcolor\":\"#E5ECF6\",\"gridcolor\":\"white\",\"linecolor\":\"white\",\"showbackground\":true,\"ticks\":\"\",\"zerolinecolor\":\"white\",\"gridwidth\":2}},\"shapedefaults\":{\"line\":{\"color\":\"#2a3f5f\"}},\"annotationdefaults\":{\"arrowcolor\":\"#2a3f5f\",\"arrowhead\":0,\"arrowwidth\":1},\"geo\":{\"bgcolor\":\"white\",\"landcolor\":\"#E5ECF6\",\"subunitcolor\":\"white\",\"showland\":true,\"showlakes\":true,\"lakecolor\":\"white\"},\"title\":{\"x\":0.05},\"mapbox\":{\"style\":\"light\"}}},\"title\":{\"text\":\"Sentiment Box Plot\"},\"xaxis\":{\"title\":{\"text\":\"Politician\"}},\"yaxis\":{\"title\":{\"text\":\"Sentiment Score\"}}},                        {\"responsive\": true}                    ).then(function(){\n",
              "                            \n",
              "var gd = document.getElementById('f67b58e4-3d00-4735-9266-a8b2678bc2bf');\n",
              "var x = new MutationObserver(function (mutations, observer) {{\n",
              "        var display = window.getComputedStyle(gd).display;\n",
              "        if (!display || display === 'none') {{\n",
              "            console.log([gd, 'removed!']);\n",
              "            Plotly.purge(gd);\n",
              "            observer.disconnect();\n",
              "        }}\n",
              "}});\n",
              "\n",
              "// Listen for the removal of the full notebook cells\n",
              "var notebookContainer = gd.closest('#notebook-container');\n",
              "if (notebookContainer) {{\n",
              "    x.observe(notebookContainer, {childList: true});\n",
              "}}\n",
              "\n",
              "// Listen for the clearing of the current output cell\n",
              "var outputEl = gd.closest('.output');\n",
              "if (outputEl) {{\n",
              "    x.observe(outputEl, {childList: true});\n",
              "}}\n",
              "\n",
              "                        })                };                            </script>        </div>\n",
              "</body>\n",
              "</html>"
            ]
          },
          "metadata": {}
        }
      ]
    }
  ]
}